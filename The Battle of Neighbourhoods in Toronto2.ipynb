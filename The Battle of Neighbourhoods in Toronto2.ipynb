{
    "cells": [
        {
            "cell_type": "markdown",
            "metadata": {
                "collapsed": true
            },
            "source": "# The Battle of Neighborhoods (Week 1)"
        },
        {
            "cell_type": "markdown",
            "metadata": {},
            "source": "### Introduction\n##### In this notebook I will explore ronto for new coffee shops. I would like to open a coffee shop so I will examine Toronto city's datas."
        },
        {
            "cell_type": "markdown",
            "metadata": {},
            "source": "### Business problem"
        },
        {
            "cell_type": "markdown",
            "metadata": {},
            "source": "##### Toronto is one of the biggest city of Canada so it is really hard to find where to open a new coffee shop. Which areas are more populated and where people need more shops. I try to find result to these.\n"
        },
        {
            "cell_type": "code",
            "execution_count": null,
            "metadata": {},
            "outputs": [],
            "source": ""
        }
    ],
    "metadata": {
        "kernelspec": {
            "display_name": "Python 3.6",
            "language": "python",
            "name": "python3"
        },
        "language_info": {
            "codemirror_mode": {
                "name": "ipython",
                "version": 3
            },
            "file_extension": ".py",
            "mimetype": "text/x-python",
            "name": "python",
            "nbconvert_exporter": "python",
            "pygments_lexer": "ipython3",
            "version": "3.6.9"
        }
    },
    "nbformat": 4,
    "nbformat_minor": 1
}